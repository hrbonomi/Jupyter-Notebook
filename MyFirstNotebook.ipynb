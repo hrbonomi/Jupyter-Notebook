{
    "cells": [
        {
            "cell_type": "markdown",
            "metadata": {},
            "source": "# My Jupyter Notebook on IBM Data Science Experience\n___"
        },
        {
            "cell_type": "markdown",
            "metadata": {},
            "source": "**Hernan Bonomi**  \n\nResearcher specialized in Molecular Biology and Protein Sciences, extremely motivated about transitioning towards bringing novel life saving drugs and treatments to people."
        },
        {
            "cell_type": "markdown",
            "metadata": {},
            "source": "*__I am very interested in learning Data Science because:__*\n1. I would like to apply this knowledge to make better predictions, create more accurate models and uncover useful information from datasets.\n1. Ultimately (and hopefully), Data Science will help me communicate my findings derived from the data in a more comprehensive and compelling manner and lead, me and my working partners, to take better and wiser decisions."
        },
        {
            "cell_type": "markdown",
            "metadata": {},
            "source": "### Cell 5 contains a simple code to be interpreted in R that will approximate the value of $\\pi$ using the Gregory\u2013Leibniz series"
        },
        {
            "cell_type": "code",
            "execution_count": 17,
            "metadata": {},
            "outputs": [
                {
                    "name": "stdout",
                    "output_type": "stream",
                    "text": "After 1e+07 cycles, we obtained pi = 3.141593 \n"
                }
            ],
            "source": "#variable initialization\na <- 0\nn <- 1E7\n\n#loop with Gregory-Leibniz series\nfor(i in 1:n) {\n    k <- i-1\n    tmp <- (-1)^k / (2*k + 1)\n    a <- a + tmp\n}\n\npi <- 4*a\n\n#print relevant variables and result\ncat('After', n, 'cycles, we obtained pi =', pi, '\\n')"
        },
        {
            "cell_type": "markdown",
            "metadata": {},
            "source": "<!DOCTYPE html>\n<html>\n    <head>\n        <style>\n        </style>\n    </head>\n    <title>Cell 6</title>\n    <body>\n        <h1>Cell #6</h1>\n        <h2>Assignment for this cell</h2>\n        <hr size = \"20\">\n        <p>Using Markdown or HTML, this cell must include at least 3 of the following:</p>\n        <p>(I chose HTML)</p>  \n        <ul>\n            <li>horizontal rule <strong>(see above)</strong></li>\n            <li>bulleted list <strong>(this list)</strong></li>            \n            <li>numbered list <strong>(see below)</strong></li>            \n            <li>tables <strong>(see below)</strong></li>            \n            <li>hyperlinks <strong>(<a href=\"https://www.w3schools.com/html/\">for example this HTML tutorial</a>)</strong></li>            \n            <li>images <strong>(shown here)</strong></li>\n                <img src=\"https://upload.wikimedia.org/wikipedia/en/thumb/3/32/Coursera_logo.svg/109px-Coursera_logo.svg.png\" alt=\"Coursera logo\" width=\"60\" height=\"60\"></li>            \n                <img src=\"https://upload.wikimedia.org/wikipedia/commons/thumb/6/61/HTML5_logo_and_wordmark.svg/240px-HTML5_logo_and_wordmark.svg.png\" alt=\"HTML logo\" width=\"60\" height=\"60\"></li>            \n            <li>code/syntax highlighting<strong>(see below)</strong></li>            \n            <li>blocked quotes <strong>(see below)</strong></li>     \n            <li>strikethrough <strong><strike>shown here</strike></strong></li>          \n        </ul> \n    <h1>Table example</h1>\n    <table style=\"width:25%\">\n        <tr>\n            <th>Make</th>\n            <th>Model</th>\n            <th>Production Year</th>\n        </tr>\n        <tr>\n            <td>Shelby American</td>\n            <td>AC Shelby Cobra</td>\n            <td>1962\u20131963</td>\n        </tr>\n        <tr>\n            <td>BMW</td>\n            <td>BMW 503</td>\n            <td>1956-1959</td>\n        </tr>\n        <tr>\n            <td>Ferrari</td>\n            <td>Ferrari Testarossa</td>\n            <td>1984\u20131996</td>\n        </tr>\n    </table> \n    <h1>Numbered list example</h1>\n        <ol>\n            <li>Water</li>\n            <li>Wine</li>\n            <li>Juice</li>\n        </ol>\n        <h1>Code/syntax highlighting</h1>\n            <font color=\"blue\">&lt;<font color=\"brown\">!DOCTYPE <font color=\"red\">html<font color=\"blue\">&gt;<br>\n            <font color=\"blue\">&lt;<font color=\"brown\">html<font color=\"blue\">&gt;<br>\n            <font color=\"blue\">&lt;<font color=\"brown\">body<font color=\"blue\">&gt;<br>\n            <font color=\"blue\">&lt;<font color=\"brown\">h1&gt;<font color=\"black\">Showing HTML code Syntax Highlighting example&lt;<font color=\"brown\">/h1<font color=\"blue\">&gt;<br><font color=\"black\">\n        <h1>The blockquote element</h1>\n        <p>Here is a quote from Wikipedia:</p>\n        <blockquote cite=\"https://en.wikipedia.org/wiki/Coursera\">\n        Coursera (/k\u0259r\u02c8s\u025br\u0259/) is an American online learning platform founded in 2012 by Stanford professors Andrew Ng and Daphne Koller that offers massive open online courses (MOOC), specializations,\n        and degrees.\n        Coursera works with universities and other organizations to offer online courses, specializations, and degrees in a variety of subjects, such as engineering, data science, machine learning,\n        mathematics, business, computer science, digital marketing, humanities, medicine, biology, social sciences, and others.\n        </blockquote>\n    </body>\n</html>\n\n"
        },
        {
            "cell_type": "code",
            "execution_count": null,
            "metadata": {},
            "outputs": [],
            "source": ""
        }
    ],
    "metadata": {
        "kernelspec": {
            "display_name": "R 3.6 with Spark",
            "language": "R",
            "name": "r"
        },
        "language_info": {
            "codemirror_mode": "r",
            "file_extension": ".r",
            "mimetype": "text/x-r-source",
            "name": "R",
            "pygments_lexer": "r",
            "version": "3.6.0"
        }
    },
    "nbformat": 4,
    "nbformat_minor": 1
}