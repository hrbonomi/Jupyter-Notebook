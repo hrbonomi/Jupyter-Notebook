{
    "cells": [
        {
            "metadata": {},
            "cell_type": "markdown",
            "source": "# My Jupyter Notebook on IBM Data Science Experience\n___"
        },
        {
            "metadata": {},
            "cell_type": "markdown",
            "source": "**Hernan Bonomi**  \n\nResearcher specialized in Molecular Biology and Protein Sciences, extremely motivated about transitioning towards bringing novel life saving drugs and treatments to people."
        },
        {
            "metadata": {},
            "cell_type": "markdown",
            "source": "*__I am very interested in learning Data Science because:__*\n1. I would like to apply this knowledge to make better predictions, create more accurate models and uncover useful information from datasets.\n1. Ultimately (and hopefully), Data Science will help me communicate my findings derived from the data in a more comprehensive and compelling manner and lead, me and my working partners, to take better and wiser decisions."
        },
        {
            "metadata": {},
            "cell_type": "markdown",
            "source": "### Cell 5 contains a simple code to be interpreted in R that will approximate the value of $\\pi$ using the Gregory\u2013Leibniz series"
        },
        {
            "metadata": {},
            "cell_type": "code",
            "source": "#variable initialization\na <- 0\nn <- 1E7\n\n#loop with Gregory-Leibniz series\nfor(i in 1:n) {\n    k <- i-1\n    tmp <- (-1)^k / (2*k + 1)\n    a <- a + tmp\n}\n\npi <- 4*a\n\n#print relevant variables and result\ncat('After', n, 'cycles, we obtained pi =', pi, '\\n')",
            "execution_count": 18,
            "outputs": [
                {
                    "output_type": "stream",
                    "text": "After 1e+07 cycles, we obtained pi = 3.141593 \n",
                    "name": "stdout"
                }
            ]
        },
        {
            "metadata": {},
            "cell_type": "markdown",
            "source": "<!DOCTYPE html>\n<html lang=\"en\">\n    <head>\n        <title>Cell 6</title>\n    </head>\n    <body>\n        <h1>Cell #6</h1>\n        <h2>Assignment for this cell</h2>\n        <hr style=\"height:3px;border-width:0;background-color:red\">\n        <p>Using Markdown or HTML, this cell must include at least 3 of the following:</p>\n        <p>(I chose HTML)</p>\n        <ul>\n            <li>horizontal rule <strong>(see above)</strong></li>\n            <li>bulleted list <strong>(this list)</strong></li>\n            <li>numbered list <strong>(see below)</strong></li>\n            <li>tables <strong>(see below)</strong></li>\n            <li>hyperlinks <strong>(<a href=\"https://www.w3schools.com/html/\">for example this HTML tutorial</a>)</strong></li>\n            <li>images <strong>(shown below)</strong></li>\n            <li>code/syntax highlighting<strong>(see below)</strong></li>\n            <li>blocked quotes <strong>(see below)</strong></li>\n            <li>strikethrough <strong><del>shown here</del></strong></li>\n        </ul>\n        <h1>Images</h1>\n        <img src=\"https://upload.wikimedia.org/wikipedia/en/thumb/3/32/Coursera_logo.svg/109px-Coursera_logo.svg.png\" alt=\"Coursera logo\" width=\"100\" height=\"17\">\n        <img src=\"https://upload.wikimedia.org/wikipedia/commons/thumb/6/61/HTML5_logo_and_wordmark.svg/240px-HTML5_logo_and_wordmark.svg.png\" alt=\"HTML logo\" width=\"60\" height=\"60\">\n        <h1>Table</h1>\n        <table style=\"width:25%\">\n            <tr>\n                <th>Make</th>\n                <th>Model</th>\n                <th>Production Year</th>\n            </tr>\n            <tr>\n                <td>Shelby American</td>\n                <td>AC Shelby Cobra</td>\n                <td>1962\u20131963</td>\n            </tr>\n            <tr>\n                <td>BMW</td>\n                <td>BMW 503</td>\n                <td>1956-1959</td>\n            </tr>\n            <tr>\n                <td>Ferrari</td>\n                <td>Ferrari Testarossa</td>\n                <td>1984\u20131996</td>\n            </tr>\n        </table> \n        <h1>Numbered list</h1>\n            <ol>\n                <li>Water</li>\n                <li>Wine</li>\n                <li>Juice</li>\n            </ol>\n        <h1>Code/syntax highlighting</h1>\n        <p style=\"color:blue\">\n            &lt;\n            <span style=\"color:brown\">!DOCTYPE</span>\n            <span style=\"color:red\"> html</span>\n            <span style=\"color:blue\">&gt;</span>\n        </p>\n        <h1>The blockquote element</h1>\n        <p>Here is a quote from Wikipedia:</p>\n        <blockquote cite=\"https://en.wikipedia.org/wiki/Coursera\">\n        Coursera (/k\u0259r\u02c8s\u025br\u0259/) is an American online learning platform founded in 2012 by Stanford professors Andrew Ng and Daphne Koller that offers massive open online courses (MOOC), specializations,\n        and degrees.\n        Coursera works with universities and other organizations to offer online courses, specializations, and degrees in a variety of subjects, such as engineering, data science, machine learning,\n        mathematics, business, computer science, digital marketing, humanities, medicine, biology, social sciences, and others.\n        </blockquote>\n    </body>\n</html>"
        },
        {
            "metadata": {},
            "cell_type": "code",
            "source": "",
            "execution_count": null,
            "outputs": []
        }
    ],
    "metadata": {
        "kernelspec": {
            "name": "r",
            "display_name": "R 3.6 with Spark",
            "language": "R"
        },
        "language_info": {
            "mimetype": "text/x-r-source",
            "name": "R",
            "pygments_lexer": "r",
            "version": "3.6.0",
            "file_extension": ".r",
            "codemirror_mode": "r"
        }
    },
    "nbformat": 4,
    "nbformat_minor": 1
}